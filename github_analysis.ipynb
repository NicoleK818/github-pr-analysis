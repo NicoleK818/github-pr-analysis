{
 "cells": [
  {
   "cell_type": "markdown",
   "id": "005aa7c1-d3b8-4d92-b0aa-d4cddae990da",
   "metadata": {},
   "source": [
    "第一步 获取 GitHub 仓库信息（API入门）"
   ]
  },
  {
   "cell_type": "code",
   "execution_count": null,
   "id": "c7375e4f-d8f3-4ce3-8fa9-b08fa4898e07",
   "metadata": {},
   "outputs": [],
   "source": [
    "import requests\n",
    "\n",
    "# 仓库信息 API 地址\n",
    "repo_api_url = 'https://api.github.com/repos/pandas-dev/pandas'\n",
    "\n",
    "response = requests.get(repo_api_url, verify=False)\n",
    "repo_data = response.json()\n",
    "\n",
    "# 打印部分仓库信息\n",
    "print(\"仓库名：\", repo_data[\"name\"])\n",
    "print(\"所有者：\", repo_data[\"owner\"][\"login\"])\n",
    "print(\"描述：\", repo_data[\"description\"])\n",
    "print(\"主页：\", repo_data[\"homepage\"])\n",
    "print(\"分叉数：\", repo_data[\"forks_count\"])\n",
    "print(\"关注者数：\", repo_data[\"stargazers_count\"])"
   ]
  },
  {
   "cell_type": "markdown",
   "id": "e9fbeb91-ee57-49d0-bb71-3aba7926ae1b",
   "metadata": {},
   "source": [
    "第二步 获取拉取请求（PR）信息"
   ]
  },
  {
   "cell_type": "code",
   "execution_count": null,
   "id": "4f841427-f8a4-4631-b0f3-ad2f3349d06b",
   "metadata": {},
   "outputs": [],
   "source": [
    "# PR列表 API 地址\n",
    "pulls_api_url = 'https://api.github.com/repos/pandas-dev/pandas/pulls'\n",
    "\n",
    "response = requests.get(pulls_api_url)\n",
    "pulls_data = response.json()\n",
    "\n",
    "# 打印前3个PR的标题、作者、状态\n",
    "for pr in pulls_data[:3]:\n",
    "    print(\"PR标题：\", pr[\"title\"])\n",
    "    print(\"作者：\", pr[\"user\"][\"login\"])\n",
    "    print(\"状态：\", pr[\"state\"])\n",
    "    print(\"创建时间：\", pr[\"created_at\"])\n",
    "    print(\"-\" * 30)"
   ]
  },
  {
   "cell_type": "markdown",
   "id": "44c1e257-edbb-4d56-91d2-1439c018d2f4",
   "metadata": {},
   "source": [
    "第三步 获取PR详细信息（如提交次数、改动文件数）"
   ]
  },
  {
   "cell_type": "code",
   "execution_count": null,
   "id": "67e9b4e1-505f-4800-90b6-3cad4d939bee",
   "metadata": {},
   "outputs": [],
   "source": [
    "pr_number = pulls_data[0][\"number\"]  # 取第一个PR的编号\n",
    "pr_detail_url = f'https://api.github.com/repos/pandas-dev/pandas/pulls/{pr_number}'\n",
    "pr_detail = requests.get(pr_detail_url).json()\n",
    "\n",
    "print(\"提交次数：\", pr_detail[\"commits\"])\n",
    "print(\"改动文件数：\", pr_detail[\"changed_files\"])\n",
    "print(\"添加行数：\", pr_detail[\"additions\"])\n",
    "print(\"删除行数：\", pr_detail[\"deletions\"])"
   ]
  },
  {
   "cell_type": "markdown",
   "id": "402e8c2b-dab1-4459-b58b-7d7db6644848",
   "metadata": {},
   "source": [
    "第四步 获取用户信息"
   ]
  },
  {
   "cell_type": "code",
   "execution_count": null,
   "id": "16af366d-ae7c-431f-bd0e-d05be988a75a",
   "metadata": {},
   "outputs": [],
   "source": [
    "user_login = pulls_data[0][\"user\"][\"login\"]\n",
    "user_url = f'https://api.github.com/users/{user_login}'\n",
    "user_data = requests.get(user_url).json()\n",
    "\n",
    "print(\"用户名：\", user_data[\"login\"])\n",
    "print(\"仓库数：\", user_data[\"public_repos\"])\n",
    "print(\"粉丝数：\", user_data[\"followers\"])\n",
    "print(\"关注数：\", user_data[\"following\"])"
   ]
  },
  {
   "cell_type": "markdown",
   "id": "bafc7e22-58e9-4309-8f46-f536ade139bc",
   "metadata": {},
   "source": [
    "第五步 面向对象组织数据（Class设计）"
   ]
  },
  {
   "cell_type": "code",
   "execution_count": 5,
   "id": "e8119ebd-5624-4fb9-87e9-df0bced40407",
   "metadata": {},
   "outputs": [],
   "source": [
    "class Repository:\n",
    "    def __init__(self, name, owner, description, homepage, forks, stars, license, date_of_collection):\n",
    "        self.name = name\n",
    "        self.owner = owner\n",
    "        self.description = description\n",
    "        self.homepage = homepage\n",
    "        self.forks = forks\n",
    "        self.stars = stars\n",
    "        self.license = license\n",
    "        self.date_of_collection = date_of_collection\n",
    "        self.pull_requests = []\n",
    "\n",
    "    def to_csv(self):\n",
    "        return f\"{self.owner},{self.name},{self.description},{self.homepage},{self.license},{self.forks},{self.stars},{self.date_of_collection}\"\n",
    "\n",
    "class PullRequest:\n",
    "    def __init__(self, title, number, body, state, created_at, closed_at, user, commits, additions, deletions, changed_files):\n",
    "        self.title = title\n",
    "        self.number = number\n",
    "        self.body = body\n",
    "        self.state = state\n",
    "        self.created_at = created_at\n",
    "        self.closed_at = closed_at\n",
    "        self.user = user\n",
    "        self.commits = commits\n",
    "        self.additions = additions\n",
    "        self.deletions = deletions\n",
    "        self.changed_files = changed_files\n",
    "\n",
    "    def to_csv(self):\n",
    "        return f\"{self.number},{self.title},{self.state},{self.created_at},{self.closed_at},{self.user},{self.commits},{self.additions},{self.deletions},{self.changed_files}\"\n",
    "\n",
    "class User:\n",
    "    def __init__(self, login, num_prs, public_repos, followers, following):\n",
    "        self.login = login\n",
    "        self.num_prs = num_prs\n",
    "        self.public_repos = public_repos\n",
    "        self.followers = followers\n",
    "        self.following = following\n",
    "\n",
    "    def to_csv(self):\n",
    "        return f\"{self.login},{self.num_prs},{self.public_repos},{self.followers},{self.following}\""
   ]
  },
  {
   "cell_type": "markdown",
   "id": "d6a39789-d4ee-41fa-9b02-99bfaf7664ba",
   "metadata": {},
   "source": [
    "第六步 保存数据到CSV文件"
   ]
  },
  {
   "cell_type": "code",
   "execution_count": 6,
   "id": "9017bcfb-0f71-408e-8840-2f478d294e87",
   "metadata": {},
   "outputs": [],
   "source": [
    "import csv\n",
    "from datetime import datetime\n",
    "\n",
    "repo_obj = Repository(\n",
    "    name=repo_data[\"name\"],\n",
    "    owner=repo_data[\"owner\"][\"login\"],\n",
    "    description=repo_data[\"description\"],\n",
    "    homepage=repo_data[\"homepage\"],\n",
    "    forks=repo_data[\"forks_count\"],\n",
    "    stars=repo_data[\"stargazers_count\"],\n",
    "    license=repo_data[\"license\"][\"name\"] if repo_data[\"license\"] else \"\",\n",
    "    date_of_collection=datetime.today().strftime('%Y-%m-%d')\n",
    ")\n",
    "\n",
    "# 写入CSV\n",
    "with open('projects.csv', 'a', newline='', encoding='utf-8') as f:\n",
    "    writer = csv.writer(f)\n",
    "    writer.writerow(repo_obj.to_csv().split(\",\"))"
   ]
  },
  {
   "cell_type": "markdown",
   "id": "20260ed9-9a22-456d-a156-4ca95cc29ce9",
   "metadata": {},
   "source": [
    "第七步 数据分析和可视化"
   ]
  },
  {
   "cell_type": "code",
   "execution_count": null,
   "id": "6c253252-77a5-49b2-88f3-fae638485984",
   "metadata": {},
   "outputs": [],
   "source": [
    "import matplotlib\n",
    "import matplotlib.pyplot as plt\n",
    "\n",
    "matplotlib.rcParams['font.sans-serif'] = ['SimHei']  # 显示中文\n",
    "matplotlib.rcParams['axes.unicode_minus'] = False    # 显示负号\n",
    "\n",
    "commits = []\n",
    "headers = {\"User-Agent\": \"Mozilla/5.0\"}      # ① 定义 headers\n",
    "\n",
    "for pr in pulls_data:\n",
    "    pr_number = pr[\"number\"]\n",
    "    pr_detail_url = f\"https://api.github.com/repos/pandas-dev/pandas/pulls/{pr_number}\"\n",
    "    pr_detail = requests.get(pr_detail_url, headers=headers).json()   # ② 加 headers\n",
    "    if \"commits\" in pr_detail:\n",
    "        commits.append(pr_detail[\"commits\"])\n",
    "print(commits)\n",
    "\n",
    "plt.hist(commits, bins=10)\n",
    "plt.title('PR提交次数分布')\n",
    "plt.xlabel('提交次数')\n",
    "plt.ylabel('PR数量')\n",
    "plt.show()"
   ]
  }
 ],
 "metadata": {
  "kernelspec": {
   "display_name": "Python 3 (ipykernel)",
   "language": "python",
   "name": "python3"
  },
  "language_info": {
   "codemirror_mode": {
    "name": "ipython",
    "version": 3
   },
   "file_extension": ".py",
   "mimetype": "text/x-python",
   "name": "python",
   "nbconvert_exporter": "python",
   "pygments_lexer": "ipython3",
   "version": "3.11.0"
  }
 },
 "nbformat": 4,
 "nbformat_minor": 5
}
